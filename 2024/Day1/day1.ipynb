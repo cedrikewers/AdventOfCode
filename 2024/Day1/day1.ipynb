{
 "cells": [
  {
   "cell_type": "markdown",
   "metadata": {},
   "source": [
    "# Setup"
   ]
  },
  {
   "cell_type": "code",
   "execution_count": 27,
   "metadata": {},
   "outputs": [],
   "source": [
    "import numpy as np\n",
    "import pandas as pd\n",
    "\n",
    "df = pd.read_csv('input.txt', sep='   ', header=None, engine='python')\n",
    "left = np.sort(np.array(df[0]))\n",
    "right = np.sort(np.array(df[1]))"
   ]
  },
  {
   "cell_type": "markdown",
   "metadata": {},
   "source": [
    "# Part 1"
   ]
  },
  {
   "cell_type": "code",
   "execution_count": 28,
   "metadata": {},
   "outputs": [
    {
     "name": "stdout",
     "output_type": "stream",
     "text": [
      "1722302\n"
     ]
    }
   ],
   "source": [
    "diffs = np.abs(left - right)\n",
    "\n",
    "answer = np.sum(diffs)\n",
    "print(answer)"
   ]
  },
  {
   "cell_type": "markdown",
   "metadata": {},
   "source": [
    "# Part 2"
   ]
  },
  {
   "cell_type": "code",
   "execution_count": 29,
   "metadata": {},
   "outputs": [
    {
     "name": "stdout",
     "output_type": "stream",
     "text": [
      "20373490\n"
     ]
    }
   ],
   "source": [
    "right_unique, right_unique_count = np.unique(right, return_counts=True)\n",
    "\n",
    "left_df = pd.DataFrame({'left': left})\n",
    "right_df = pd.DataFrame({'right': right_unique, 'count': right_unique_count})\n",
    "\n",
    "res_df = pd.merge(left_df, right_df, how='left', left_on='left', right_on='right') \n",
    "res_df.fillna(0, inplace=True, )\n",
    "res_df['value'] = res_df['count'] * res_df['left']\n",
    "\n",
    "answer = np.sum(res_df['value'])\n",
    "print(int(answer))"
   ]
  }
 ],
 "metadata": {
  "kernelspec": {
   "display_name": ".venv",
   "language": "python",
   "name": "python3"
  },
  "language_info": {
   "codemirror_mode": {
    "name": "ipython",
    "version": 3
   },
   "file_extension": ".py",
   "mimetype": "text/x-python",
   "name": "python",
   "nbconvert_exporter": "python",
   "pygments_lexer": "ipython3",
   "version": "3.12.1"
  }
 },
 "nbformat": 4,
 "nbformat_minor": 2
}
