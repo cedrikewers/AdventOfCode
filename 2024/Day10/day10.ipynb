{
 "cells": [
  {
   "cell_type": "markdown",
   "metadata": {},
   "source": [
    "# Setup\n",
    "\n",
    "Today we use a straight forward but highly inefficient method. We use `networkx` to build a graph of the topological map and which nodes are connected.\n",
    "Then we use the included pathfinding functions to solve the problem."
   ]
  },
  {
   "cell_type": "code",
   "execution_count": null,
   "metadata": {},
   "outputs": [],
   "source": [
    "import networkx as nx\n",
    "import numpy as np\n",
    "from itertools import product\n",
    "\n",
    "with open('input.txt') as f:\n",
    "    lines = [[int(i) if i != '.' else -2 for i  in line.strip()] for line in f.readlines()]\n",
    "\n",
    "top_map = np.array(lines)\n",
    "\n",
    "def get_connected_nodes(y, x, top_map: np.ndarray) -> list[tuple[int, int]]:\n",
    "    node_value = top_map[y, x]\n",
    "    connected_nodes = []\n",
    "    for y_offset, x_offset in ((0, 1), (0, -1), (1, 0), (-1, 0)):\n",
    "        y_test, x_test = y + y_offset, x + x_offset\n",
    "        try:\n",
    "            if top_map[y_test, x_test] - node_value == 1:\n",
    "                connected_nodes.append((y_test, x_test))\n",
    "        except IndexError:\n",
    "            pass\n",
    "    return connected_nodes\n",
    "\n",
    "map_graph = nx.DiGraph()\n",
    "\n",
    "for y, x in product(range(top_map.shape[0]), range(top_map.shape[1])):\n",
    "    map_graph.add_node((y, x))\n",
    "    \n",
    "for node in list(map_graph):\n",
    "    connected_nodes = get_connected_nodes(*node, top_map)\n",
    "    for connected_node in connected_nodes:\n",
    "        map_graph.add_edge(node, connected_node)\n",
    "        \n",
    "trailheads = list(zip(*np.where(top_map == 0)))\n",
    "tops = list(zip(*np.where(top_map == 9)))"
   ]
  },
  {
   "cell_type": "markdown",
   "metadata": {},
   "source": [
    "# Part 1"
   ]
  },
  {
   "cell_type": "code",
   "execution_count": null,
   "metadata": {},
   "outputs": [],
   "source": [
    "score = 0\n",
    "\n",
    "for trailhead, top in product(trailheads, tops):\n",
    "    if nx.has_path(map_graph, trailhead, top):\n",
    "        score += 1\n",
    "        # print(f'Path found from {trailhead} to {top}')\n",
    "\n",
    "print(score)"
   ]
  },
  {
   "cell_type": "markdown",
   "metadata": {},
   "source": [
    "# Part 2"
   ]
  },
  {
   "cell_type": "code",
   "execution_count": null,
   "metadata": {},
   "outputs": [],
   "source": [
    "rating = 0\n",
    "\n",
    "for trailhead, top in product(trailheads, tops):\n",
    "    rating += len(list(nx.all_simple_paths(map_graph, trailhead, top)))\n",
    "    \n",
    "print(rating)"
   ]
  }
 ],
 "metadata": {
  "kernelspec": {
   "display_name": ".venv",
   "language": "python",
   "name": "python3"
  },
  "language_info": {
   "codemirror_mode": {
    "name": "ipython",
    "version": 3
   },
   "file_extension": ".py",
   "mimetype": "text/x-python",
   "name": "python",
   "nbconvert_exporter": "python",
   "pygments_lexer": "ipython3",
   "version": "3.12.1"
  }
 },
 "nbformat": 4,
 "nbformat_minor": 2
}
