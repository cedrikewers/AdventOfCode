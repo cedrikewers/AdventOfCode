{
 "cells": [
  {
   "cell_type": "markdown",
   "metadata": {},
   "source": [
    "# Part 1"
   ]
  },
  {
   "cell_type": "code",
   "execution_count": null,
   "metadata": {},
   "outputs": [],
   "source": [
    "import math\n",
    "\n",
    "with open('input.txt') as f:\n",
    "    stones =  [int(i) for i in f.read().strip().split(' ')]\n",
    "\n",
    "next_step = {0: [1]}\n",
    "\n",
    "def calculate_next_stone(i: int) -> list[int]:\n",
    "    # first rule\n",
    "    if i in next_step:\n",
    "        return next_step[i]\n",
    "    \n",
    "    number_of_digits = int(math.log10(i)) + 1\n",
    "    if number_of_digits % 2 == 0:\n",
    "        power_number = 10**(number_of_digits/2)\n",
    "        first_number = i // power_number\n",
    "        second_number = i - first_number * power_number\n",
    "        ret_value = [int(first_number), int(second_number)]\n",
    "        next_step[i] = ret_value\n",
    "        return ret_value\n",
    "        \n",
    "    # uneven number of digits third rule\n",
    "    ret_value = [i * 2024]\n",
    "    next_step[i] = ret_value\n",
    "    return ret_value\n",
    "\n",
    "list_of_stones = stones\n",
    "next_gen_stones = []\n",
    "\n",
    "for i in range(25):\n",
    "    for stone in list_of_stones:\n",
    "        res = calculate_next_stone(stone)\n",
    "        next_gen_stones.extend(res)\n",
    "    list_of_stones = next_gen_stones\n",
    "    next_gen_stones = []\n",
    "    #print(f\"After {i+1} blink(s) there are {len(list_of_stones)} stones\")\n",
    "    \n",
    "print(len(list_of_stones))"
   ]
  },
  {
   "cell_type": "markdown",
   "metadata": {},
   "source": [
    "# Part 2"
   ]
  },
  {
   "cell_type": "code",
   "execution_count": null,
   "metadata": {},
   "outputs": [],
   "source": [
    "dict_of_stones: dict[int, int] = {i: 1 for i in stones}\n",
    "next_dict_of_stones: dict[int, int] = {}\n",
    "\n",
    "def add_number_of_stones(i: int, count: int) -> None:\n",
    "    if i in next_dict_of_stones:\n",
    "        next_dict_of_stones[i] += count\n",
    "    else:\n",
    "        next_dict_of_stones[i] = count\n",
    "\n",
    "def calculate_and_update(i: int) -> None:\n",
    "    number_of_stones = dict_of_stones[i]\n",
    "    for j in calculate_next_stone(i): # add new stones\n",
    "        add_number_of_stones(j, number_of_stones)\n",
    "\n",
    "\n",
    "for i in range(75):\n",
    "    for stone in dict_of_stones:\n",
    "        calculate_and_update(stone)\n",
    "    dict_of_stones = next_dict_of_stones\n",
    "    next_dict_of_stones = {}\n",
    "    length = sum(dict_of_stones.values())\n",
    "    # print(f\"After {i+1} blink(s): {length}, {dict_of_stones} \")\n",
    "    \n",
    "print(sum(dict_of_stones.values()))"
   ]
  }
 ],
 "metadata": {
  "kernelspec": {
   "display_name": ".venv",
   "language": "python",
   "name": "python3"
  },
  "language_info": {
   "codemirror_mode": {
    "name": "ipython",
    "version": 3
   },
   "file_extension": ".py",
   "mimetype": "text/x-python",
   "name": "python",
   "nbconvert_exporter": "python",
   "pygments_lexer": "ipython3",
   "version": "3.12.1"
  }
 },
 "nbformat": 4,
 "nbformat_minor": 2
}
