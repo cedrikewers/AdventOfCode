{
 "cells": [
  {
   "cell_type": "code",
   "execution_count": 77,
   "metadata": {},
   "outputs": [],
   "source": [
    "from scipy.optimize import linprog\n",
    "import re\n",
    "import numpy as np\n",
    "\n",
    "\n",
    "with open('input.txt', 'r') as f:\n",
    "    lines = f.readlines()\n",
    "\n",
    "line_0_1_reg = re.compile(r'Button [AB]: X\\+(\\d+), Y\\+(\\d+)')\n",
    "line_2_reg = re.compile(r'Prize: X=(\\d+), Y=(\\d+)')\n",
    "\n",
    "problems = []\n",
    "current_problem = []\n",
    "for i, line in enumerate(lines):\n",
    "    line_type = i % 4\n",
    "    if line_type == 3:\n",
    "        problems.append(current_problem)\n",
    "        current_problem = []\n",
    "        continue\n",
    "    if line_type == 2:\n",
    "        current_problem.append(line_2_reg.match(line).groups())\n",
    "    else:\n",
    "        current_problem.append(line_0_1_reg.match(line).groups())\n",
    "problems.append(current_problem)       \n",
    "problems = np.array(problems, dtype=np.int64)\n",
    "\n",
    "def return_optimal_solution(problem: np.ndarray):\n",
    "    c = [3, 1]\n",
    "    A = [problem[:2, 0], problem[:2, 1]]\n",
    "    b = problem[2]\n",
    "    a_bounds = (0, None)\n",
    "    b_bounds = (0, None)\n",
    "    bounds = [a_bounds, b_bounds]\n",
    "    res = linprog(c, A_eq=A, b_eq=b, bounds=bounds, integrality=1, method='highs')\n",
    "\n",
    "    if res.x is None:\n",
    "        return 0\n",
    "\n",
    "    return int(res.x @ [3, 1])"
   ]
  },
  {
   "cell_type": "markdown",
   "metadata": {},
   "source": [
    "# Part 1"
   ]
  },
  {
   "cell_type": "code",
   "execution_count": 78,
   "metadata": {},
   "outputs": [
    {
     "name": "stdout",
     "output_type": "stream",
     "text": [
      "37128\n"
     ]
    }
   ],
   "source": [
    "total_tokens = 0\n",
    "for i in range(problems.shape[0]):\n",
    "    res = return_optimal_solution(problems[i])\n",
    "    total_tokens += res\n",
    "\n",
    "print(total_tokens)"
   ]
  },
  {
   "cell_type": "markdown",
   "metadata": {},
   "source": [
    "# Part 2"
   ]
  },
  {
   "cell_type": "code",
   "execution_count": 79,
   "metadata": {},
   "outputs": [
    {
     "name": "stdout",
     "output_type": "stream",
     "text": [
      "74914228508459\n"
     ]
    }
   ],
   "source": [
    "# linprog does not seem to work with such big numbers. back to algebra it is.\n",
    "# changing the tolerance for np.isclose to 1e-4 was the solution. I guess\n",
    "# linprog failed because an internal call to np.isclose with a tolerance that was to big  \n",
    "\n",
    "part_2_offset = 10000000000000\n",
    "problems[:, 2] += part_2_offset\n",
    "\n",
    "def return_optimal_solution2(problem: np.ndarray) -> int:\n",
    "    # A @ x = b ==> x = A^-1 @ b\n",
    "    A = problem[:2].T\n",
    "    b = problem[2]\n",
    "    x = np.linalg.inv(A) @ b\n",
    "    fractional_part, _ = np.modf(x)\n",
    "    # check if the result is an integer. With numbers as big as these, an increased tolerance is needed\n",
    "    if not np.all(np.isclose(fractional_part, 0, atol=1e-4) | np.isclose(fractional_part, 1, atol=1e-4)):\n",
    "        return 0\n",
    "    return int(np.rint(x @ [3, 1]))\n",
    "\n",
    "total_tokens\n",
    "for i in range(problems.shape[0]):\n",
    "    total_tokens += return_optimal_solution2(problems[i])\n",
    "    \n",
    "print(total_tokens)\n"
   ]
  }
 ],
 "metadata": {
  "kernelspec": {
   "display_name": ".venv",
   "language": "python",
   "name": "python3"
  },
  "language_info": {
   "codemirror_mode": {
    "name": "ipython",
    "version": 3
   },
   "file_extension": ".py",
   "mimetype": "text/x-python",
   "name": "python",
   "nbconvert_exporter": "python",
   "pygments_lexer": "ipython3",
   "version": "3.12.1"
  }
 },
 "nbformat": 4,
 "nbformat_minor": 2
}
