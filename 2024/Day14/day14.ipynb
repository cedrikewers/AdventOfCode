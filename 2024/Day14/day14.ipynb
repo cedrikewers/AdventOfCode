{
 "cells": [
  {
   "cell_type": "code",
   "execution_count": 1,
   "metadata": {},
   "outputs": [],
   "source": [
    "import re\n",
    "import numpy as np\n",
    "import os\n",
    "\n",
    "FILENAME = 'input.txt'\n",
    "\n",
    "with open(FILENAME) as f:\n",
    "    lines = f.readlines()\n",
    "    \n",
    "line_regex = re.compile(r'p=(-?\\d+),(-?\\d+) v=(-?\\d+),(-?\\d+)')\n",
    "input = [[int(x) for x in line_regex.match(line).groups()] for line in lines]\n",
    "vectors = np.array(input)\n",
    "\n",
    "X_MAX = 101 if FILENAME == 'input.txt' else 11\n",
    "Y_MAX = 103 if FILENAME == 'input.txt' else 7"
   ]
  },
  {
   "cell_type": "markdown",
   "metadata": {},
   "source": [
    "# Part 1"
   ]
  },
  {
   "cell_type": "code",
   "execution_count": 2,
   "metadata": {},
   "outputs": [
    {
     "name": "stdout",
     "output_type": "stream",
     "text": [
      "223020000\n"
     ]
    }
   ],
   "source": [
    "pos = vectors[:, :2] + 100 * vectors[:, 2:]\n",
    "pos[:, 0] %= X_MAX\n",
    "pos[:, 1] %= Y_MAX\n",
    "\n",
    "first_quadrant = (pos[:, 0] > X_MAX // 2) & (pos[:, 1] < Y_MAX // 2)\n",
    "second_quadrant = (pos[:, 0] < X_MAX // 2) & (pos[:, 1] < Y_MAX // 2)\n",
    "third_quadrant = (pos[:, 0] < X_MAX // 2) & (pos[:, 1] > Y_MAX // 2)\n",
    "fourth_quadrant = (pos[:, 0] > X_MAX // 2) & (pos[:, 1] > Y_MAX // 2)\n",
    "\n",
    "print(first_quadrant.sum() * second_quadrant.sum() * third_quadrant.sum() * fourth_quadrant.sum())"
   ]
  },
  {
   "cell_type": "markdown",
   "metadata": {},
   "source": [
    "# Part 2\n",
    "\n",
    "Just look trough the `tree_frames` folder and find the christmas tree."
   ]
  },
  {
   "cell_type": "code",
   "execution_count": 3,
   "metadata": {},
   "outputs": [
    {
     "name": "stdout",
     "output_type": "stream",
     "text": [
      "frame_7338.png\n"
     ]
    },
    {
     "data": {
      "image/png": "[encoded data removed]",
      "text/plain": [
       "<Figure size 640x480 with 1 Axes>"
      ]
     },
     "metadata": {},
     "output_type": "display_data"
    }
   ],
   "source": [
    "import matplotlib.pyplot as plt\n",
    "from PIL import Image\n",
    "OFFSET = 0\n",
    "\n",
    "def show_grid(pos, save_name=None):\n",
    "    grid = np.zeros((Y_MAX, X_MAX), dtype=int)\n",
    "    for x, y in pos:\n",
    "        grid[y, x] = 1\n",
    "    plt.set_cmap('Greens')\n",
    "    plt.axis('off')\n",
    "    plt.imshow(grid)\n",
    "    if save_name:\n",
    "        plt.savefig(save_name, dpi=70)\n",
    "    else:\n",
    "        plt.show()\n",
    "    \n",
    "pos = vectors[:, :2] + OFFSET * vectors[:, 2:]\n",
    "\n",
    "VAR_X_THRESHOLD = 500\n",
    "\n",
    "try:\n",
    "    os.mkdir('tree_frames')\n",
    "except FileExistsError:\n",
    "    for f in os.listdir('tree_frames'):\n",
    "        os.remove(f'tree_frames/{f}')\n",
    "\n",
    "for i in range(1, 10000):\n",
    "    pos += vectors[:, 2:]\n",
    "    pos[:, 0] %= X_MAX\n",
    "    pos[:, 1] %= Y_MAX\n",
    "    var_x = pos[:, 1].var()\n",
    "    if var_x < VAR_X_THRESHOLD:\n",
    "        show_grid(pos, f'tree_frames/frame_{i+OFFSET:04}.png')\n",
    "\n",
    "# Find the tree frame by looking at the smallest file size. The smallest png will have the least noise and be the tree.\n",
    "file_sizes = {}    \n",
    "for f in os.listdir('tree_frames'):\n",
    "    file_sizes[f] = os.path.getsize(f'tree_frames/{f}')\n",
    "smallest_file = min(file_sizes, key=file_sizes.get)\n",
    "im = Image.open(f'tree_frames/{smallest_file}')\n",
    "im.show()\n",
    "print(smallest_file)"
   ]
  }
 ],
 "metadata": {
  "kernelspec": {
   "display_name": ".venv",
   "language": "python",
   "name": "python3"
  },
  "language_info": {
   "codemirror_mode": {
    "name": "ipython",
    "version": 3
   },
   "file_extension": ".py",
   "mimetype": "text/x-python",
   "name": "python",
   "nbconvert_exporter": "python",
   "pygments_lexer": "ipython3",
   "version": "3.12.1"
  }
 },
 "nbformat": 4,
 "nbformat_minor": 2
}
