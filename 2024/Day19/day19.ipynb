{
 "cells": [
  {
   "cell_type": "markdown",
   "metadata": {},
   "source": [
    "# Setup"
   ]
  },
  {
   "cell_type": "code",
   "execution_count": 92,
   "metadata": {},
   "outputs": [],
   "source": [
    "with open('input-small.txt') as f:\n",
    "    data = f.readlines()\n",
    "\n",
    "towels = data[0].strip().split(', ')"
   ]
  },
  {
   "cell_type": "markdown",
   "metadata": {},
   "source": [
    "# Part 1\n",
    "\n",
    "regex foes most of the work here"
   ]
  },
  {
   "cell_type": "code",
   "execution_count": 90,
   "metadata": {},
   "outputs": [
    {
     "name": "stdout",
     "output_type": "stream",
     "text": [
      "6\n"
     ]
    }
   ],
   "source": [
    "import re\n",
    "\n",
    "search_string = ''.join(data[2:])\n",
    "\n",
    "super_regex = re.compile(f'^(?:{'|'.join(towels)})+$', re.MULTILINE)\n",
    "\n",
    "res = super_regex.findall(search_string)\n",
    "print(len(res))"
   ]
  },
  {
   "cell_type": "markdown",
   "metadata": {},
   "source": [
    "# Part 2\n",
    "\n",
    "Now we need to write an actual solver :("
   ]
  },
  {
   "cell_type": "code",
   "execution_count": 98,
   "metadata": {},
   "outputs": [
    {
     "name": "stdout",
     "output_type": "stream",
     "text": [
      "4 r\n",
      "3 rr\n",
      "2 wrr\n",
      "1 rwrr\n",
      "0 brwrr\n",
      "\n"
     ]
    }
   ],
   "source": [
    "is_buildable_cache = set()\n",
    "is_not_buildable_cache = set()\n",
    "def is_buildable(arrangement) -> bool:\n",
    "    if arrangement in is_buildable_cache:\n",
    "        return True\n",
    "    if arrangement in is_not_buildable_cache:\n",
    "        return False\n",
    "    if super_regex.match(arrangement):\n",
    "        is_buildable_cache.add(arrangement)\n",
    "        return True\n",
    "    is_not_buildable_cache.add(arrangement)\n",
    "    return False\n",
    "\n",
    "number_of_ways_to_create = {}\n",
    "\n"
   ]
  }
 ],
 "metadata": {
  "kernelspec": {
   "display_name": ".venv",
   "language": "python",
   "name": "python3"
  },
  "language_info": {
   "codemirror_mode": {
    "name": "ipython",
    "version": 3
   },
   "file_extension": ".py",
   "mimetype": "text/x-python",
   "name": "python",
   "nbconvert_exporter": "python",
   "pygments_lexer": "ipython3",
   "version": "3.12.1"
  }
 },
 "nbformat": 4,
 "nbformat_minor": 2
}
