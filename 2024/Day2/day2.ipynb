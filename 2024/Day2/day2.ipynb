{
 "cells": [
  {
   "cell_type": "markdown",
   "metadata": {},
   "source": [
    "# Setup"
   ]
  },
  {
   "cell_type": "code",
   "execution_count": null,
   "metadata": {},
   "outputs": [],
   "source": [
    "import numpy as np\n",
    "\n",
    "with open('input.txt') as f:\n",
    "    lines = [np.array(line.strip().split(' '), dtype=np.int32) for line in f.readlines()]\n",
    "    \n",
    "def check_line(line: np.ndarray) -> bool:\n",
    "    diffs = line[1:] - line[:-1]\n",
    "    # Filter out diffs containing zeroes or alternating signs\n",
    "    if np.any(diffs >= 0) and np.any(diffs <= 0):\n",
    "        return False\n",
    "    \n",
    "    diffs = np.abs(diffs)\n",
    "    # If the absolute difference never exceeds 3, the report is safe\n",
    "    if not np.any((diffs > 3)):\n",
    "        return True\n",
    "    return False"
   ]
  },
  {
   "cell_type": "markdown",
   "metadata": {},
   "source": [
    "# Part 1"
   ]
  },
  {
   "cell_type": "code",
   "execution_count": null,
   "metadata": {},
   "outputs": [],
   "source": [
    "count  = 0\n",
    "for line in lines:    \n",
    "    if check_line(line):\n",
    "        count += 1\n",
    "print(count)"
   ]
  },
  {
   "cell_type": "markdown",
   "metadata": {},
   "source": [
    "# Part 2"
   ]
  },
  {
   "cell_type": "code",
   "execution_count": null,
   "metadata": {},
   "outputs": [],
   "source": [
    "count  = 0\n",
    "for line in lines:\n",
    "    if check_line(line):\n",
    "        count += 1\n",
    "        continue\n",
    "   \n",
    "    for i in range(len(line)):\n",
    "        working_line = np.delete(line, i)\n",
    "        if check_line(working_line):\n",
    "            count += 1\n",
    "            break\n",
    "        \n",
    "print(count)"
   ]
  }
 ],
 "metadata": {
  "kernelspec": {
   "display_name": ".venv",
   "language": "python",
   "name": "python3"
  },
  "language_info": {
   "codemirror_mode": {
    "name": "ipython",
    "version": 3
   },
   "file_extension": ".py",
   "mimetype": "text/x-python",
   "name": "python",
   "nbconvert_exporter": "python",
   "pygments_lexer": "ipython3",
   "version": "3.12.4"
  }
 },
 "nbformat": 4,
 "nbformat_minor": 2
}
