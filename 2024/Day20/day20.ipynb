{
 "cells": [
  {
   "cell_type": "markdown",
   "metadata": {},
   "source": [
    "# Todays Code is especially terrible"
   ]
  },
  {
   "cell_type": "code",
   "execution_count": null,
   "metadata": {},
   "outputs": [],
   "source": [
    "import networkx as nx\n",
    "import matplotlib.pyplot as plt\n",
    "import numpy as np\n",
    "from itertools import combinations\n",
    "\n",
    "with open('input.txt') as f:\n",
    "    lines = f.readlines()\n",
    "    data = [[c for c in line.strip()] for line in lines]\n",
    "\n",
    "# 0: right, 1: down, 2: left, 3: up\n",
    "offsets = [(0, 1), (1, 0), (0, -1), (-1, 0)]\n",
    "\n",
    "board = np.array(data)\n",
    "free_spaces: list[list[int]] = np.argwhere(board == '.').tolist()\n",
    "\n",
    "start_point = tuple(np.argwhere(board == 'S')[0].tolist())\n",
    "end_point = tuple(np.argwhere(board == 'E')[0].tolist())\n",
    "free_spaces.append(start_point)\n",
    "free_spaces.append(end_point)\n",
    "\n",
    "def show_path(board, path, cheats = None):\n",
    "    used_board = board.copy()\n",
    "    for y, x in path:\n",
    "        used_board[y, x] = 'O'\n",
    "            \n",
    "    used_board[start_point[0], start_point[1]] = 'S'\n",
    "    used_board[end_point[0], end_point[1]] = 'E'\n",
    "    \n",
    "    if cheats is not None:\n",
    "        for i, (y, x) in enumerate(cheats):\n",
    "            used_board[y, x] = i + 1\n",
    "        \n",
    "    print('\\n'.join([''.join(line) for line in used_board.tolist()]))\n",
    "\n",
    "graph = nx.Graph()\n",
    "\n",
    "for y, x in free_spaces:    \n",
    "    for dy, dx in offsets:\n",
    "        offset_point = [y + dy, x + dx]\n",
    "        if offset_point in free_spaces:\n",
    "            # print(f'Adding edge from {y, x, dir_num} to {offset_point[0], offset_point[1], dir_num}')\n",
    "            graph.add_edge((y, x), (y + dy, x + dx))\n",
    "            \n",
    "\n",
    "\n",
    "s = nx.shortest_path(graph, start_point, end_point)\n",
    "s_len = len(s)\n",
    "show_path(board, s)"
   ]
  },
  {
   "cell_type": "code",
   "execution_count": null,
   "metadata": {},
   "outputs": [],
   "source": [
    "combinations_of_points_on_track = np.array(list(combinations(np.array(free_spaces), 2)))\n",
    "l1norm_of_points_on_track = np.linalg.norm(combinations_of_points_on_track[:, 0] - combinations_of_points_on_track[:, 1], ord=1, axis=1)\n",
    "possible_cheats = combinations_of_points_on_track[np.where(l1norm_of_points_on_track == 2)[0]]\n",
    "\n",
    "print(f\"Checking {len(possible_cheats)} possible cheats\")\n",
    "    "
   ]
  },
  {
   "cell_type": "code",
   "execution_count": null,
   "metadata": {},
   "outputs": [],
   "source": [
    "saves_greater_then_100 = 0\n",
    "\n",
    "for p1, p2 in possible_cheats:\n",
    "    p1, p2 = tuple(p1), tuple(p2)\n",
    "    if len(nx.shortest_path(graph, p1, p2)) == 3:\n",
    "        continue\n",
    "    graph.add_edge(p1, p2)\n",
    "    path = nx.shortest_path(graph, start_point, end_point)\n",
    "    # show_path(board, path, cheats=[p1, p2])\n",
    "    path_len = len(path) + 1\n",
    "    save = s_len - path_len\n",
    "    if save >= 100:\n",
    "        saves_greater_then_100 += 1\n",
    "    # print(f'Cheating with {p1} and {p2}, length is {path_len}, saving {save} ps\\n\\n')\n",
    "    graph.remove_edge(p1, p2)\n",
    "\n",
    "print(saves_greater_then_100)"
   ]
  }
 ],
 "metadata": {
  "kernelspec": {
   "display_name": ".venv",
   "language": "python",
   "name": "python3"
  },
  "language_info": {
   "codemirror_mode": {
    "name": "ipython",
    "version": 3
   },
   "file_extension": ".py",
   "mimetype": "text/x-python",
   "name": "python",
   "nbconvert_exporter": "python",
   "pygments_lexer": "ipython3",
   "version": "3.12.1"
  }
 },
 "nbformat": 4,
 "nbformat_minor": 2
}
