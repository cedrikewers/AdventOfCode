{
 "cells": [
  {
   "cell_type": "markdown",
   "metadata": {},
   "source": [
    "# Setup"
   ]
  },
  {
   "cell_type": "code",
   "execution_count": 52,
   "metadata": {},
   "outputs": [],
   "source": [
    "import re\n",
    "from functools import reduce\n",
    "\n",
    "with open ('input.txt', 'r') as f:\n",
    "    input_string = f.read()"
   ]
  },
  {
   "cell_type": "markdown",
   "metadata": {},
   "source": [
    "# Part 1"
   ]
  },
  {
   "cell_type": "code",
   "execution_count": 53,
   "metadata": {},
   "outputs": [
    {
     "name": "stdout",
     "output_type": "stream",
     "text": [
      "166357705\n"
     ]
    }
   ],
   "source": [
    "mul = re.compile(r'mul\\((\\d{1,3}),(\\d{1,3})\\)')\n",
    "sum = 0\n",
    "for x, y in re.findall(mul, input_string):\n",
    "    sum += int(x) * int(y)\n",
    "\n",
    "print(sum)"
   ]
  },
  {
   "cell_type": "markdown",
   "metadata": {},
   "source": [
    "# Part 2"
   ]
  },
  {
   "cell_type": "code",
   "execution_count": null,
   "metadata": {},
   "outputs": [
    {
     "name": "stdout",
     "output_type": "stream",
     "text": [
      "88811886\n"
     ]
    }
   ],
   "source": [
    "do = 'do()'\n",
    "dont = 'don\\'t()'\n",
    "dont_or_mul = re.compile(r'(don\\'t\\(\\))|mul\\((\\d{1,3}),(\\d{1,3})\\)')\n",
    "\n",
    "left = input_string#\"xmul(2,4)&mul[3,7]!^don't()_mul(5,5)+mul(32,64](mul(11,8)undo()?mul(8,5))\"\n",
    "last = do\n",
    "\n",
    "sum = 0\n",
    "\n",
    "while len(left):\n",
    "    if last == do:\n",
    "        # Test if a dont or a mul i coming\n",
    "        matchobj = re.search(dont_or_mul, left)\n",
    "        # End of string\n",
    "        if not matchobj:\n",
    "            break\n",
    "        # If a dont is coming, stop searching for muls\n",
    "        if matchobj.group(0) == dont:\n",
    "            _, left.split(dont, maxsplit=1)\n",
    "            last = dont\n",
    "            continue\n",
    "        # If a mul is coming, add the result to the sum and remove it from the string\n",
    "        _, x, y = matchobj.groups()\n",
    "        sum += int(x) * int(y)\n",
    "        left = re.split(mul, left, maxsplit=1)[-1]\n",
    "    # Look for a do to enable the muls\n",
    "    else:\n",
    "        _, left = left.split(do, maxsplit=1)\n",
    "        last = do\n",
    "print(sum)"
   ]
  }
 ],
 "metadata": {
  "kernelspec": {
   "display_name": ".venv",
   "language": "python",
   "name": "python3"
  },
  "language_info": {
   "codemirror_mode": {
    "name": "ipython",
    "version": 3
   },
   "file_extension": ".py",
   "mimetype": "text/x-python",
   "name": "python",
   "nbconvert_exporter": "python",
   "pygments_lexer": "ipython3",
   "version": "3.12.1"
  }
 },
 "nbformat": 4,
 "nbformat_minor": 2
}
