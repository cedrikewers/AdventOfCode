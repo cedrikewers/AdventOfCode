{
 "cells": [
  {
   "cell_type": "markdown",
   "metadata": {},
   "source": [
    "# Setup"
   ]
  },
  {
   "cell_type": "code",
   "execution_count": null,
   "metadata": {},
   "outputs": [],
   "source": [
    "import numpy as np\n",
    "import re\n",
    "\n",
    "with open('input.txt', 'r') as f:\n",
    "    lines = f.readlines()\n",
    "COLUMNS = len(lines[0])\n",
    "lines[-1] += '\\n'\n",
    "\n",
    "arr = np.array([list(line) for line in lines])\n",
    "\n",
    "search_string = ''.join(arr.flatten())\n",
    "\n",
    "def find_occurrences(regexes: list[str|re.Pattern], verbose = False) -> int:\n",
    "    founds = 0\n",
    "\n",
    "    for regex in regexes:\n",
    "        count = len(re.findall(regex, search_string, re.S))\n",
    "        verbose and print(f\"Found {count} matches for regex {regex}\")\n",
    "        founds += count\n",
    "        \n",
    "    return founds\n",
    "    "
   ]
  },
  {
   "cell_type": "markdown",
   "metadata": {},
   "source": [
    "# Part 1"
   ]
  },
  {
   "cell_type": "code",
   "execution_count": null,
   "metadata": {},
   "outputs": [],
   "source": [
    "def xmas_with_space(space : int) -> str:\n",
    "    return rf'(?=X.{{{space}}}M.{{{space}}}A.{{{space}}}S)'\n",
    "def samx_with_space(space: int) -> str:\n",
    "    return rf'(?=S.{{{space}}}A.{{{space}}}M.{{{space}}}X)'\n",
    "\n",
    "regexes = [\n",
    "    r'XMAS',\n",
    "    r'SAMX',\n",
    "    xmas_with_space(COLUMNS),\n",
    "    xmas_with_space(COLUMNS-1),\n",
    "    xmas_with_space(COLUMNS-2),\n",
    "    samx_with_space(COLUMNS),\n",
    "    samx_with_space(COLUMNS-1),\n",
    "    samx_with_space(COLUMNS-2),\n",
    "]\n",
    "\n",
    "find_occurrences(regexes)"
   ]
  },
  {
   "cell_type": "markdown",
   "metadata": {},
   "source": [
    "# Part 2"
   ]
  },
  {
   "cell_type": "code",
   "execution_count": null,
   "metadata": {},
   "outputs": [],
   "source": [
    "regexes = [\n",
    "    fr'(?=M.S.{{{COLUMNS-2}}}A.{{{COLUMNS-2}}}M.S)',\n",
    "    fr'(?=S.S.{{{COLUMNS-2}}}A.{{{COLUMNS-2}}}M.M)',\n",
    "    fr'(?=M.M.{{{COLUMNS-2}}}A.{{{COLUMNS-2}}}S.S)',\n",
    "    fr'(?=S.M.{{{COLUMNS-2}}}A.{{{COLUMNS-2}}}S.M)'\n",
    "]\n",
    "\n",
    "find_occurrences(regexes)"
   ]
  }
 ],
 "metadata": {
  "kernelspec": {
   "display_name": ".venv",
   "language": "python",
   "name": "python3"
  },
  "language_info": {
   "codemirror_mode": {
    "name": "ipython",
    "version": 3
   },
   "file_extension": ".py",
   "mimetype": "text/x-python",
   "name": "python",
   "nbconvert_exporter": "python",
   "pygments_lexer": "ipython3",
   "version": "3.12.4"
  }
 },
 "nbformat": 4,
 "nbformat_minor": 2
}
