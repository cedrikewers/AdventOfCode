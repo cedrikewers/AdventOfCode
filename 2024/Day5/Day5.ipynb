{
 "cells": [
  {
   "cell_type": "markdown",
   "metadata": {},
   "source": [
    "# Setup"
   ]
  },
  {
   "cell_type": "code",
   "execution_count": 10,
   "metadata": {},
   "outputs": [],
   "source": [
    "import numpy as np\n",
    "\n",
    "with open('input.txt') as f:\n",
    "    lines = f.readlines()\n",
    "    \n",
    "constraints = [[int(i) for i in constraint.strip().split('|')] for constraint in lines[:lines.index('\\n')]]\n",
    "print_order = [[int(i) for i in constraint.strip().split(',')] for constraint in  lines[lines.index('\\n') + 1:]]\n",
    "\n",
    "# Brute force approach\n",
    "def does_order_satisfy_constraint(order: list) -> bool:\n",
    "    for constraint in constraints:\n",
    "        if constraint[0] in order and constraint[1] in order:\n",
    "            if order.index(constraint[0]) > order.index(constraint[1]):\n",
    "                return False\n",
    "    return True"
   ]
  },
  {
   "cell_type": "markdown",
   "metadata": {},
   "source": [
    "# Part 1"
   ]
  },
  {
   "cell_type": "code",
   "execution_count": 11,
   "metadata": {},
   "outputs": [
    {
     "name": "stdout",
     "output_type": "stream",
     "text": [
      "7074\n"
     ]
    }
   ],
   "source": [
    "sum = 0\n",
    "\n",
    "for order in print_order:\n",
    "    if does_order_satisfy_constraint(order):\n",
    "        sum += order[len(order) // 2]\n",
    "        \n",
    "print(sum)"
   ]
  },
  {
   "cell_type": "markdown",
   "metadata": {},
   "source": [
    "# Part 2"
   ]
  },
  {
   "cell_type": "code",
   "execution_count": null,
   "metadata": {},
   "outputs": [
    {
     "name": "stdout",
     "output_type": "stream",
     "text": [
      "4828\n"
     ]
    }
   ],
   "source": [
    "# Build the graph describing the constraints\n",
    "from typing import Iterable\n",
    "\n",
    "def construct_correct_order_from_constraints(constraints: list[list[int]], verbose = True):\n",
    "    constraints = constraints.copy()\n",
    "    unique_pages = set()\n",
    "    for constraint in constraints:\n",
    "        unique_pages.add(constraint[0])\n",
    "        unique_pages.add(constraint[1])\n",
    "\n",
    "    absolute_order = [constraints[0][0], constraints[0][1]]\n",
    "    del constraints[0]\n",
    "\n",
    "    def can_number_be_placed_here(lower: int, higher: int, relevant_constraints: Iterable[list], verbose = True) -> bool:\n",
    "        relevant_constraints = list(relevant_constraints)\n",
    "        verbose and print(f\"Trying to find out if {lower} can be placed below {higher}. Relevant constraints: {relevant_constraints}\")\n",
    "        for constraint in relevant_constraints:\n",
    "            lower_constraint, upper_constraint = constraint\n",
    "            if lower_constraint == higher and upper_constraint == lower:\n",
    "                del constraints[constraints.index(constraint)]\n",
    "                return False\n",
    "        return True\n",
    "        \n",
    "    def get_relevant_constraints(one = None, two = None) -> filter:\n",
    "        if one is None and two is None:\n",
    "            return filter(lambda x: x[0] in absolute_order or x[1] in absolute_order, constraints)\n",
    "        return filter(lambda x: (x[0] == one or x[0] == two) and (x[1] == two or x[1] == one), constraints)\n",
    "\n",
    "    def insert_above(lower: int, upper: int, verbose = True):\n",
    "        try:\n",
    "            next_one_up = absolute_order[absolute_order.index(lower) + 1]\n",
    "        except IndexError:\n",
    "            verbose and print(f\"{lower} is the last value in the list. Adding {upper} to the end.\")\n",
    "            absolute_order.append(upper)\n",
    "            return\n",
    "        relevant_constrains = get_relevant_constraints(upper, next_one_up)\n",
    "        if can_number_be_placed_here(upper, next_one_up, relevant_constrains, verbose=verbose):\n",
    "            verbose and print(f\"{upper} is smaller than {next_one_up}. Adding {upper} above {lower}.\")\n",
    "            absolute_order.insert(absolute_order.index(next_one_up), upper)\n",
    "            return\n",
    "        else:\n",
    "            verbose and print(f\"{upper} is larger than {next_one_up}. Trying to insert it above {next_one_up}.\")\n",
    "        insert_above(next_one_up, upper, verbose=verbose)\n",
    "        \n",
    "    def insert_below(lower: int, upper: int, verbose = True):\n",
    "        current_index = absolute_order.index(upper)\n",
    "        if current_index == 0:\n",
    "            verbose and print(f\"{upper} is the first value in the list. Adding {lower} to the beginning.\")\n",
    "            absolute_order.insert(0, lower)\n",
    "            return\n",
    "        next_one_down = absolute_order[current_index - 1]\n",
    "        relevant_constrains = get_relevant_constraints(next_one_down, lower)\n",
    "        if can_number_be_placed_here(next_one_down, lower, relevant_constrains, verbose=verbose):\n",
    "            verbose and print(f\"{lower} is larger than {next_one_down}. Adding {lower} below {upper}.\")\n",
    "            absolute_order.insert(absolute_order.index(upper), lower)\n",
    "            return\n",
    "        else:\n",
    "            verbose and print(f\"{lower} is smaller than {next_one_down}. Trying to insert it below {next_one_down}.\")\n",
    "        insert_below(lower, next_one_down, verbose=verbose)\n",
    "\n",
    "    while len(absolute_order) < len(unique_pages):\n",
    "        relevant_constrains = list(get_relevant_constraints())\n",
    "        for constraint in relevant_constrains:\n",
    "            lower, upper = constraint\n",
    "            \n",
    "            if lower in absolute_order and upper not in absolute_order:\n",
    "                verbose and print(f\"Absolute order: {absolute_order}; Lower: {lower}; Upper: {upper}; relevant constraints: {constraints}\")\n",
    "                insert_above(lower, upper, verbose)\n",
    "            if upper in absolute_order and lower not in absolute_order:\n",
    "                verbose and print(f\"Absolute order: {absolute_order}; Lower: {lower}; Upper: {upper}; relevant constraints: {constraints}\")\n",
    "                insert_below(lower, upper, verbose)\n",
    "                \n",
    "    # Check remaining constraints\n",
    "    not_satisfied_constrains = []\n",
    "    while len(constraints) > 0:\n",
    "        lower, upper = constraints[0]\n",
    "        if lower in absolute_order and upper in absolute_order:\n",
    "            if absolute_order.index(lower) > absolute_order.index(upper):\n",
    "                not_satisfied_constrains.append(constraints[0])\n",
    "            del constraints[0]\n",
    "    if len(not_satisfied_constrains) == 0:\n",
    "        verbose and print(\"All constraints satisfied.\")\n",
    "    else:\n",
    "        verbose and print(\"Constraints not satisfied:\")\n",
    "        for constraint in not_satisfied_constrains:\n",
    "            verbose and print(constraint)\n",
    "            return None\n",
    "    verbose and print(absolute_order)\n",
    "    return absolute_order\n",
    "\n",
    "sum = 0\n",
    "for order in print_order:\n",
    "    if not does_order_satisfy_constraint(order):\n",
    "        relevant_constraints = [constraint for constraint in constraints if constraint[0] in order and constraint[1] in order]\n",
    "        sorted_order = construct_correct_order_from_constraints(relevant_constraints, verbose=False)\n",
    "        sum += sorted_order[len(sorted_order) // 2]\n",
    "        \n",
    "print(sum)"
   ]
  }
 ],
 "metadata": {
  "kernelspec": {
   "display_name": ".venv",
   "language": "python",
   "name": "python3"
  },
  "language_info": {
   "codemirror_mode": {
    "name": "ipython",
    "version": 3
   },
   "file_extension": ".py",
   "mimetype": "text/x-python",
   "name": "python",
   "nbconvert_exporter": "python",
   "pygments_lexer": "ipython3",
   "version": "3.12.1"
  }
 },
 "nbformat": 4,
 "nbformat_minor": 2
}
