{
 "cells": [
  {
   "cell_type": "markdown",
   "metadata": {},
   "source": [
    "# Setup"
   ]
  },
  {
   "cell_type": "code",
   "execution_count": null,
   "metadata": {},
   "outputs": [],
   "source": [
    "from itertools import product\n",
    "\n",
    "with open('input.txt') as f:\n",
    "    lines = f.readlines()\n",
    "\n",
    "equations = [(int(line.split(':')[0]), [int(value) for value in line.strip().split(':')[1].split(' ')[1:]]) for line in lines]\n",
    "\n",
    "VERBOSE = False"
   ]
  },
  {
   "cell_type": "markdown",
   "metadata": {},
   "source": [
    "# Part 1"
   ]
  },
  {
   "cell_type": "code",
   "execution_count": null,
   "metadata": {},
   "outputs": [],
   "source": [
    "sum_of_values_that_work = 0\n",
    "\n",
    "for result, values in equations:\n",
    "    for operators in product(['+', '*'], repeat=len(values)-1):\n",
    "        # print(result, values, operators)\n",
    "        current_result = values[0]\n",
    "        for operator, value in zip(operators, values[1:]):\n",
    "            if operator == '+':\n",
    "                current_result += value\n",
    "            else:\n",
    "                current_result *= value\n",
    "        if current_result == result:\n",
    "            VERBOSE and print(result, values, operators)\n",
    "            sum_of_values_that_work += result\n",
    "            break\n",
    "                  \n",
    "print(sum_of_values_that_work)"
   ]
  },
  {
   "cell_type": "markdown",
   "metadata": {},
   "source": [
    "# Part 2\n",
    "\n",
    "Since this is a brute force part two solution, it takes about **16 seconds** to run."
   ]
  },
  {
   "cell_type": "code",
   "execution_count": null,
   "metadata": {},
   "outputs": [],
   "source": [
    "import math\n",
    "\n",
    "sum_of_values_that_work = 0\n",
    "\n",
    "for result, values in equations:\n",
    "    for operators in product(['+', '*', '||'], repeat=len(values)-1):\n",
    "        # print(result, values, operators)\n",
    "        current_result = values[0]\n",
    "        for operator, value in zip(operators, values[1:]):\n",
    "            if operator == '+':\n",
    "                current_result += value\n",
    "            elif operator == '||':\n",
    "                current_result = int(str(current_result) + str(value))\n",
    "            else:\n",
    "                current_result *= value\n",
    "        if current_result == result:\n",
    "            VERBOSE and print(result, values, operators)\n",
    "            sum_of_values_that_work += result\n",
    "            break\n",
    "                  \n",
    "print(sum_of_values_that_work)"
   ]
  }
 ],
 "metadata": {
  "kernelspec": {
   "display_name": "Python 3",
   "language": "python",
   "name": "python3"
  },
  "language_info": {
   "codemirror_mode": {
    "name": "ipython",
    "version": 3
   },
   "file_extension": ".py",
   "mimetype": "text/x-python",
   "name": "python",
   "nbconvert_exporter": "python",
   "pygments_lexer": "ipython3",
   "version": "3.12.8"
  }
 },
 "nbformat": 4,
 "nbformat_minor": 2
}
