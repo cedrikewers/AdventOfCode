{
 "cells": [
  {
   "cell_type": "markdown",
   "metadata": {},
   "source": [
    "# Premise\n",
    "\n",
    "For each two antenna points $P1$ with $(x_1|y_1)$ and $P2$ $(x_2|y_2)$ we can calculate a line $y = m \\cdot x + b$ that goes through these two points. The slope $m$ of this line is given by $m = \\frac{y_2 - y_1}{x_2 - x_1}$ and the y-intercept $b$ is given by $b =- y_1 - m \\cdot x_1$. \\\n",
    "We then calculate the antinode points $A1$ and $A2$ since $\\overline{P1A1} = \\overline{P1P2} = \\overline{P2A2}$."
   ]
  },
  {
   "cell_type": "markdown",
   "metadata": {},
   "source": [
    "# Setup"
   ]
  },
  {
   "cell_type": "code",
   "execution_count": null,
   "metadata": {},
   "outputs": [],
   "source": [
    "import numpy as np\n",
    "from itertools import combinations\n",
    "\n",
    "with open('input.txt') as f:\n",
    "    lines = [[c for c in line.strip()] for line in f.readlines()]\n",
    "board = np.array(lines)\n",
    "\n",
    "unique_frequencies = list(np.unique(board))\n",
    "unique_frequencies.remove('.')\n",
    "\n",
    "bounds = board.shape\n",
    "\n",
    "VERBOSE = False"
   ]
  },
  {
   "cell_type": "markdown",
   "metadata": {},
   "source": [
    "# Part 1"
   ]
  },
  {
   "cell_type": "code",
   "execution_count": null,
   "metadata": {},
   "outputs": [],
   "source": [
    "antinodes_in_bounds = set()\n",
    "\n",
    "for frequency in unique_frequencies:\n",
    "    for p1, p2 in combinations(zip(*np.where(board == frequency)), 2):\n",
    "        delta_y = p1[0] - p2[0]\n",
    "        delta_x = p1[1] - p2[1]\n",
    "        \n",
    "        a1 = (p1[0] + delta_y, p1[1] + delta_x)\n",
    "        a2 = (p2[0] - delta_y, p2[1] - delta_x)\n",
    "            \n",
    "        if(a1[0] >= 0 and a1[0] < bounds[0] and a1[1] >= 0 and a1[1] < bounds[1]):\n",
    "            VERBOSE and print(f\"Found antinode at {a1} for points {p1} and {p2} with frequency {frequency}\")\n",
    "            antinodes_in_bounds.add(a1)\n",
    "        \n",
    "        if(a2[0] >= 0 and a2[0] < bounds[0] and a2[1] >= 0 and a2[1] < bounds[1]):\n",
    "            VERBOSE and print(f\"Found antinode at {a2} for points {p1} and {p2} with frequency {frequency}\")\n",
    "            antinodes_in_bounds.add(a2)\n",
    "\n",
    "number_of_antinodes_in_bounds = len(antinodes_in_bounds)\n",
    "print(f\"Antinodes in bounds: {number_of_antinodes_in_bounds}\")"
   ]
  },
  {
   "cell_type": "markdown",
   "metadata": {},
   "source": [
    "# Part 2\n",
    "\n",
    "I have no idea why the algebraic solution is not working. It should produce the same results."
   ]
  },
  {
   "cell_type": "code",
   "execution_count": null,
   "metadata": {},
   "outputs": [],
   "source": [
    "def show_board(board, antinodes_in_bounds):\n",
    "    show_board = np.copy(board)\n",
    "    for y, x in antinodes_in_bounds:\n",
    "        if board[y, x] == '.':\n",
    "            show_board[y, x] = '#'\n",
    "    for row in show_board:\n",
    "        print(''.join(row))\n",
    "\n",
    "antinodes_in_bounds = set()\n",
    "\n",
    "x_values = np.arange(0, bounds[1])\n",
    "\n",
    "for frequency in unique_frequencies:\n",
    "    for p1, p2 in combinations(zip(*np.where(board == frequency)), 2):\n",
    "        m = (p1[0] - p2[0]) / (p1[1] - p2[1])\n",
    "        b = p1[0] - m * p1[1]\n",
    "        \n",
    "        def f(x):\n",
    "            return m * x + b\n",
    "        \n",
    "        y_values = f(x_values)\n",
    "        for x in np.where(np.isclose(np.modf(y_values)[0], 0))[0]:\n",
    "            y = int(y_values[x])\n",
    "            if(y >= 0 and y < bounds[0]):\n",
    "                antinodes_in_bounds.add((y, x))\n",
    "                VERBOSE and print(f\"Found antinode at {(y, x)} for points {p1} and {p2} with frequency {frequency}\")\n",
    "\n",
    "number_of_antinodes_in_bounds = len(antinodes_in_bounds)\n",
    "print(f\"Antinodes in bounds: {number_of_antinodes_in_bounds}\")\n",
    "antinodes_in_bounds_algebraic = antinodes_in_bounds"
   ]
  },
  {
   "cell_type": "code",
   "execution_count": null,
   "metadata": {},
   "outputs": [],
   "source": [
    "antinodes_in_bounds = set()\n",
    "\n",
    "def is_in_bounds(pos:complex) -> bool:\n",
    "    return pos.real >=0 and pos.real < bounds[0] and pos.imag >= 0 and pos.imag < bounds[1]\n",
    "\n",
    "for frequency in unique_frequencies:\n",
    "    for p1, p2 in combinations(zip(*np.where(board == frequency)), 2):\n",
    "        p1, p2 = complex(*p1), complex(*p2)\n",
    "        \n",
    "        delta = p2 - p1\n",
    "        \n",
    "        # positive direction\n",
    "        count = 0\n",
    "        while(is_in_bounds(p1 + count * delta)):\n",
    "            antinodes_in_bounds.add(p1 + count * delta)\n",
    "            count += 1\n",
    "            \n",
    "        # negative direction\n",
    "        count = 0\n",
    "        while(is_in_bounds(p2 - count * delta)):\n",
    "            antinodes_in_bounds.add(p2 - count * delta)\n",
    "            count += 1\n",
    "        \n",
    "\n",
    "number_of_antinodes_in_bounds = len(antinodes_in_bounds)\n",
    "print(f\"Antinodes in bounds: {number_of_antinodes_in_bounds}\")\n",
    "\n",
    "antinodes_in_bounds_iterative = set([(int(pos.real) , int(pos.imag)) for pos in antinodes_in_bounds])"
   ]
  }
 ],
 "metadata": {
  "kernelspec": {
   "display_name": ".venv",
   "language": "python",
   "name": "python3"
  },
  "language_info": {
   "codemirror_mode": {
    "name": "ipython",
    "version": 3
   },
   "file_extension": ".py",
   "mimetype": "text/x-python",
   "name": "python",
   "nbconvert_exporter": "python",
   "pygments_lexer": "ipython3",
   "version": "3.12.1"
  }
 },
 "nbformat": 4,
 "nbformat_minor": 2
}
