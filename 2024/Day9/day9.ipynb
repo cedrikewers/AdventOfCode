{
 "cells": [
  {
   "cell_type": "markdown",
   "metadata": {},
   "source": [
    "# Setup"
   ]
  },
  {
   "cell_type": "code",
   "execution_count": null,
   "metadata": {},
   "outputs": [],
   "source": [
    "import numpy as np\n",
    "with open('input.txt') as f:\n",
    "    input = f.read().strip()\n",
    "    input = np.array([int(i) for i in input])"
   ]
  },
  {
   "cell_type": "markdown",
   "metadata": {},
   "source": [
    "# Part 1"
   ]
  },
  {
   "cell_type": "code",
   "execution_count": null,
   "metadata": {},
   "outputs": [],
   "source": [
    "free_space_indices = []\n",
    "file_pos_indices = []\n",
    "\n",
    "cursor = 0\n",
    "is_free_space = True\n",
    "for length in input:\n",
    "    is_free_space = not is_free_space # only every second entry is a file\n",
    "    if is_free_space:\n",
    "        free_space_indices.append(np.arange(cursor, cursor+length))\n",
    "    else:\n",
    "        file_pos_indices.append(np.arange(cursor, cursor+length))\n",
    "        \n",
    "    cursor += length\n",
    "    \n",
    "free_space_indices = list(np.concatenate(free_space_indices))\n",
    "\n",
    "for file_pos in file_pos_indices[::-1]:\n",
    "    for idx in range(len(file_pos) - 1, -1, -1):\n",
    "        if len(free_space_indices) == 0:\n",
    "            break\n",
    "        if free_space_indices[0] < file_pos[idx]:\n",
    "            file_pos[idx] = free_space_indices.pop(0)\n",
    "\n",
    "    if len(free_space_indices) == 0:\n",
    "            break\n",
    "\n",
    "max_file_pos = np.max(np.concatenate(file_pos_indices))\n",
    "simulated_disk = np.zeros(max_file_pos + 1, dtype=np.int64)\n",
    "for file_idx, file_pos in enumerate(file_pos_indices):\n",
    "    simulated_disk[file_pos] = file_idx\n",
    "    \n",
    "print(np.sum(np.arange(max_file_pos + 1) * simulated_disk))\n"
   ]
  },
  {
   "cell_type": "markdown",
   "metadata": {},
   "source": [
    "# Part 2"
   ]
  },
  {
   "cell_type": "code",
   "execution_count": null,
   "metadata": {},
   "outputs": [],
   "source": [
    "file_pos_info = []\n",
    "free_space_info = []\n",
    "\n",
    "cursor = 0\n",
    "is_free_space = True\n",
    "for length in input:\n",
    "    is_free_space = not is_free_space # only every second entry is a file\n",
    "    if is_free_space:\n",
    "        free_space_info.append([cursor, length])\n",
    "    else:\n",
    "        file_pos_info.append([cursor, length])\n",
    "        \n",
    "    cursor += length\n",
    "    \n",
    "file_idx = len(file_pos_info) - 1\n",
    "\n",
    "while file_idx > 0: # while the file position is greater than the last free space\n",
    "    file_pos, file_length = file_pos_info[file_idx]\n",
    "    for free_space_idx, (free_space_pos, free_space_length) in enumerate(free_space_info):\n",
    "        if free_space_pos >= file_pos:\n",
    "            continue\n",
    "        if free_space_length >= file_length:\n",
    "            file_pos_info[file_idx][0] = free_space_pos\n",
    "            free_space_info[free_space_idx][0] += file_length\n",
    "            free_space_info[free_space_idx][1] -= file_length\n",
    "            break\n",
    "            \n",
    "    file_idx -= 1\n",
    "\n",
    "file_pos_info = np.array(file_pos_info)\n",
    "maximum_file_pos_idx = np.argmax(file_pos_info[:,0])\n",
    "max_storage_size = file_pos_info[maximum_file_pos_idx][0] + file_pos_info[maximum_file_pos_idx][1]\n",
    "simulated_disk = np.zeros(max_storage_size, dtype=np.int64)\n",
    "for file_idx, (file_pos, file_length) in enumerate(file_pos_info):\n",
    "    simulated_disk[file_pos:file_pos+file_length] = file_idx\n",
    "\n",
    "print(np.sum(np.arange(max_storage_size) * simulated_disk))"
   ]
  }
 ],
 "metadata": {
  "kernelspec": {
   "display_name": ".venv",
   "language": "python",
   "name": "python3"
  },
  "language_info": {
   "codemirror_mode": {
    "name": "ipython",
    "version": 3
   },
   "file_extension": ".py",
   "mimetype": "text/x-python",
   "name": "python",
   "nbconvert_exporter": "python",
   "pygments_lexer": "ipython3",
   "version": "3.12.1"
  }
 },
 "nbformat": 4,
 "nbformat_minor": 2
}
