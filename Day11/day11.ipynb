{
 "cells": [
  {
   "cell_type": "code",
   "execution_count": 19,
   "metadata": {},
   "outputs": [],
   "source": [
    "import numpy as np\n",
    "from itertools import combinations\n",
    "\n",
    "with open('input-small.txt') as f:\n",
    "    lines = f.readlines()\n",
    "\n",
    "\n",
    "universe = []\n",
    "galaxy_count = 0\n",
    "for line in lines:\n",
    "    row = []\n",
    "    for c in line.strip():\n",
    "        if c == '#':\n",
    "            galaxy_count += 1\n",
    "            row.append(galaxy_count)\n",
    "        else:\n",
    "            row.append(0)\n",
    "    universe.append(row)\n",
    "\n",
    "universe = np.array(universe)\n",
    "\n",
    "universe = np.insert(\n",
    "    universe, \n",
    "    np.where(np.all(universe == 0, axis=0))[0],\n",
    "    0,\n",
    "    axis=0\n",
    ")\n",
    "\n",
    "# universe = np.insert(\n",
    "#     universe, \n",
    "#     np.where(np.all(universe == 0, axis=1))[0],\n",
    "#     0,\n",
    "#     axis=1\n",
    "# )\n",
    "\n",
    "\n",
    "\n",
    "# for index, row in enumerate(universe):\n",
    "#     if not all(row):\n",
    "#         universe.insert(index, [0] * len(row))\n",
    "\n",
    "# for (x1, y1), (x2, y2) in combinations(zip(*np.where(universe > 0)), 2):\n",
    "#     distance = np.abs(x1 - x2) + np.abs(y1 - y2)\n",
    "#     distances.append(distance)\n",
    "#     print(f\"The Way from {universe[x1, y1]} to {universe[x2, y2]} is {distance} steps long.\")\n",
    "    \n",
    "# print(sum(distances))"
   ]
  }
 ],
 "metadata": {
  "kernelspec": {
   "display_name": "Python 3",
   "language": "python",
   "name": "python3"
  },
  "language_info": {
   "codemirror_mode": {
    "name": "ipython",
    "version": 3
   },
   "file_extension": ".py",
   "mimetype": "text/x-python",
   "name": "python",
   "nbconvert_exporter": "python",
   "pygments_lexer": "ipython3",
   "version": "3.10.12"
  }
 },
 "nbformat": 4,
 "nbformat_minor": 2
}
