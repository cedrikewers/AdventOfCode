{
 "cells": [
  {
   "cell_type": "code",
   "execution_count": 49,
   "metadata": {},
   "outputs": [
    {
     "name": "stdout",
     "output_type": "stream",
     "text": [
      "6827\n"
     ]
    }
   ],
   "source": [
    "import re\n",
    "import numpy as np\n",
    "from functools import reduce\n",
    "from itertools import product\n",
    "\n",
    "with open('input.txt') as f:\n",
    "    lines = f.readlines()\n",
    "\n",
    "input = [(\n",
    "    np.array([c for c in line.strip().split()[0]]), \n",
    "    line.strip().split()[1].split(',')\n",
    "    ) for line in lines]\n",
    "\n",
    "valid_permutaions_count = 0\n",
    "\n",
    "for linenbr, (springs, counts) in enumerate(input):\n",
    "    spring_indices = np.where(springs == '?')[0]\n",
    "    \n",
    "    regex: str = '^\\\\.*' + reduce(lambda a, b: a + b, [f\"#{{{count}}}\" + '\\\\.+' for count in counts])\n",
    "    regex = regex[0:-1] + '*$'\n",
    "    \n",
    "    for arrangement in product('#.', repeat=spring_indices.shape[0]):\n",
    "        for index, replacement_charachter in zip(spring_indices, arrangement):\n",
    "            springs[index] = replacement_charachter\n",
    "            \n",
    "        if re.match(regex, ''.join(springs)):\n",
    "            valid_permutaions_count += 1\n",
    "\n",
    "print(valid_permutaions_count)\n",
    "    "
   ]
  },
  {
   "cell_type": "code",
   "execution_count": null,
   "metadata": {},
   "outputs": [],
   "source": []
  }
 ],
 "metadata": {
  "kernelspec": {
   "display_name": "Python 3",
   "language": "python",
   "name": "python3"
  },
  "language_info": {
   "codemirror_mode": {
    "name": "ipython",
    "version": 3
   },
   "file_extension": ".py",
   "mimetype": "text/x-python",
   "name": "python",
   "nbconvert_exporter": "python",
   "pygments_lexer": "ipython3",
   "version": "3.12.1"
  }
 },
 "nbformat": 4,
 "nbformat_minor": 2
}
