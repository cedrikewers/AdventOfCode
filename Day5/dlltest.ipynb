{
 "cells": [
  {
   "cell_type": "code",
   "execution_count": 1,
   "metadata": {},
   "outputs": [],
   "source": [
    "import ctypes\n",
    "import os\n",
    "import numpy as np\n",
    "\n",
    "cwd = os.getcwd()\n",
    "lib = ctypes.CDLL(cwd + '/day5.so')"
   ]
  },
  {
   "cell_type": "code",
   "execution_count": 2,
   "metadata": {},
   "outputs": [
    {
     "name": "stdout",
     "output_type": "stream",
     "text": [
      "Thread 0 is looking betweeen 0 and 6250000\n",
      "Thread 4 is looking betweeen 25000000 and 31250000\n",
      "Thread 3 is looking betweeen 18750000 and 25000000\n",
      "Thread 8 is looking betweeen 50000000 and 56250000\n",
      "Thread 13 is looking betweeen 81250000 and 87500000\n",
      "Thread 13 found a seed in range 763445965 - 842016187. Its location is 81250000\n",
      "Thread 1 is looking betweeen 6250000 and 12500000\n",
      "Thread 2 is looking betweeen 12500000 and 18750000\n",
      "Thread 7 is looking betweeen 43750000 and 50000000\n",
      "Thread 9 is looking betweeen 56250000 and 62500000\n",
      "Thread 6 is looking betweeen 37500000 and 43750000\n",
      "Thread 5 is looking betweeen 31250000 and 37500000\n",
      "Thread 15 is looking betweeen 93750000 and 100000000\n",
      "Thread 11 is looking betweeen 68750000 and 75000000\n",
      "Thread 15 found a seed in range 763445965 - 842016187. Its location is 93750000\n",
      "Thread 12 is looking betweeen 75000000 and 81250000\n",
      "Thread 10 is looking betweeen 62500000 and 68750000\n",
      "Thread 14 is looking betweeen 87500000 and 93750000\n",
      "Thread 14 found a seed in range 763445965 - 842016187. Its location is 87500000\n",
      "Thread 10 found a seed in range 20816377 - 617524635. Its location is 63179500\n",
      "Thread 12 found a seed in range 763445965 - 842016187. Its location is 79753136\n",
      "Thread 9 did not find a seed in range\n",
      "Thread 3 did not find a seed in range\n",
      "Thread 7 did not find a seed in range\n",
      "Thread 8 did not find a seed in range\n",
      "Thread 0 did not find a seed in range\n",
      "Thread 5 did not find a seed in range\n",
      "Thread 1 did not find a seed in range\n",
      "Thread 2 did not find a seed in range\n",
      "Thread 4 did not find a seed in range\n",
      "Thread 6 did not find a seed in range\n",
      "Thread 11 did not find a seed in range\n"
     ]
    },
    {
     "data": {
      "text/plain": [
       "63179500"
      ]
     },
     "execution_count": 2,
     "metadata": {},
     "output_type": "execute_result"
    }
   ],
   "source": [
    "with open('input.txt') as f:\n",
    "    lines = f.readlines()\n",
    "    \n",
    "seeds = lines[0].strip().replace('seeds: ', '').split(' ')\n",
    "seed_ranges = sorted([(int(seeds[i]), int(seeds[i]) + int(seeds[i+1])) for i in range(0, len(seeds), 2)], key=lambda x: x[0])\n",
    "g_source = []\n",
    "g_dest = []\n",
    "g_range_size = []\n",
    "\n",
    "line_counter = 2\n",
    "for i in range(7):\n",
    "    source = []\n",
    "    dest = []\n",
    "    range_length = []\n",
    "    line_counter += 1\n",
    "    while lines[line_counter] != '\\n':\n",
    "        values = [int(i) for i in lines[line_counter].strip().split(' ')]\n",
    "        dest.append(values[0])\n",
    "        source.append(values[1])\n",
    "        range_length.append(values[2])\n",
    "        \n",
    "        line_counter += 1\n",
    "        if line_counter == len(lines):\n",
    "            break\n",
    "        \n",
    "    line_counter += 1\n",
    "    g_source.append(source)\n",
    "    g_dest.append(dest)\n",
    "    g_range_size.append(range_length)\n",
    "\n",
    "seed_ranges = np.array(seed_ranges, dtype=np.int_).flatten()\n",
    "seed_ranges_len = len(seed_ranges)\n",
    "\n",
    "array_lengths = np.array([len(i) for i in g_source], dtype=np.int32)\n",
    "g_source = np.array([item for sublist in g_source for item in sublist])\n",
    "g_dest = np.array([item for sublist in g_dest for item in sublist])\n",
    "g_range_size = np.array([item for sublist in g_range_size for item in sublist])\n",
    "\n",
    "lib.do_the_hard_part(\n",
    "    g_source.ctypes.data, \n",
    "    g_dest.ctypes.data, \n",
    "    g_range_size.ctypes.data, \n",
    "    array_lengths.ctypes.data, \n",
    "    seed_ranges.ctypes.data, \n",
    "    seed_ranges_len\n",
    ")\n",
    "\n",
    "\n"
   ]
  }
 ],
 "metadata": {
  "kernelspec": {
   "display_name": "Python 3",
   "language": "python",
   "name": "python3"
  },
  "language_info": {
   "codemirror_mode": {
    "name": "ipython",
    "version": 3
   },
   "file_extension": ".py",
   "mimetype": "text/x-python",
   "name": "python",
   "nbconvert_exporter": "python",
   "pygments_lexer": "ipython3",
   "version": "3.8.10"
  }
 },
 "nbformat": 4,
 "nbformat_minor": 2
}
