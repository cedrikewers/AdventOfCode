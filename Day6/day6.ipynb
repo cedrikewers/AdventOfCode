{
 "cells": [
  {
   "cell_type": "markdown",
   "metadata": {},
   "source": [
    "# Part 1"
   ]
  },
  {
   "cell_type": "code",
   "execution_count": 3,
   "metadata": {},
   "outputs": [
    {
     "name": "stdout",
     "output_type": "stream",
     "text": [
      "[32, 25, 32, 11]\n",
      "281600\n"
     ]
    }
   ],
   "source": [
    "from functools import reduce\n",
    "\n",
    "with open('input.txt') as f:\n",
    "    lines = f.readlines()\n",
    "    \n",
    "def get_no_of_options(time, record):\n",
    "    no = 0\n",
    "    for i in range(time):\n",
    "        if (time - i) * i > record:\n",
    "            no += 1        \n",
    "    return no\n",
    "    \n",
    "time = list(filter(lambda x: x!= '', lines[0].strip().split(' ')[1:]))\n",
    "record = list(filter(lambda x: x!= '', lines[1].strip().split(' ')[1:]))\n",
    "\n",
    "options = []\n",
    "\n",
    "for time, record in zip(time, record):\n",
    "    options.append(get_no_of_options(int(time), int(record)))\n",
    "    \n",
    "print(options)\n",
    "print(reduce(lambda x, y: x*y, options))"
   ]
  },
  {
   "cell_type": "markdown",
   "metadata": {},
   "source": [
    "# Part 2"
   ]
  },
  {
   "cell_type": "code",
   "execution_count": 1,
   "metadata": {},
   "outputs": [
    {
     "name": "stdout",
     "output_type": "stream",
     "text": [
      "47707566 282107911471062\n",
      "Time: 47707566, Record: 282107911471062\n"
     ]
    },
    {
     "data": {
      "text/plain": [
       "33875953"
      ]
     },
     "execution_count": 1,
     "metadata": {},
     "output_type": "execute_result"
    }
   ],
   "source": [
    "from functools import reduce\n",
    "import ctypes\n",
    "import os\n",
    "\n",
    "cwd = os.getcwd()\n",
    "lib = ctypes.CDLL(cwd + '/day6.so')\n",
    "\n",
    "with open('input.txt') as f:\n",
    "    lines = f.readlines()\n",
    "    \n",
    "def get_no_of_options(time, record):\n",
    "    no = 0\n",
    "    for i in range(time):\n",
    "        if (time - i) * i > record:\n",
    "            no += 1        \n",
    "    return no\n",
    "    \n",
    "time = reduce(lambda a, b: a + b, filter(lambda x: x!= '', lines[0].strip().split(' ')[1:]))\n",
    "record = reduce(lambda a, b: a + b, filter(lambda x: x!= '', lines[1].strip().split(' ')[1:]))\n",
    "\n",
    "print(time, record)\n",
    "\n",
    "lib.do_the_hard_part(ctypes.c_long(int(time)), ctypes.c_long(int(record)))\n"
   ]
  }
 ],
 "metadata": {
  "kernelspec": {
   "display_name": "Python 3",
   "language": "python",
   "name": "python3"
  },
  "language_info": {
   "codemirror_mode": {
    "name": "ipython",
    "version": 3
   },
   "file_extension": ".py",
   "mimetype": "text/x-python",
   "name": "python",
   "nbconvert_exporter": "python",
   "pygments_lexer": "ipython3",
   "version": "3.8.10"
  }
 },
 "nbformat": 4,
 "nbformat_minor": 2
}
