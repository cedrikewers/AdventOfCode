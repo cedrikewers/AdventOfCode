{
 "cells": [
  {
   "cell_type": "code",
   "execution_count": null,
   "metadata": {},
   "outputs": [],
   "source": [
    "def simplify(nums: list[int]) -> list[list[int]]:\n",
    "    result = [nums]\n",
    "    \n",
    "    while not all(x == 0 for x in result[-1]):\n",
    "        last = result[-1]\n",
    "        result.append([r - l for l, r in zip(last, last[1:])])\n",
    "    \n",
    "    return result\n",
    "\n",
    "def extrapolate(nums: list[list[int]]) -> int:\n",
    "    for l, r in zip(nums[::-1], nums[::-1][1:]):\n",
    "        r.append(l[-1] + r[-1])\n",
    "    \n",
    "    return nums[0][-1]\n",
    "\n",
    "with open('input.txt') as f:\n",
    "    lines = f.readlines()\n",
    "\n",
    "input = [[int(x) for x in line.strip().split(' ')] for line in lines]\n",
    "\n",
    "extrapolated_values = [extrapolate(simplify(nums)) for nums in input]\n",
    "print(sum(extrapolated_values))"
   ]
  },
  {
   "cell_type": "markdown",
   "metadata": {},
   "source": [
    "This cell is used for testing the code above"
   ]
  },
  {
   "cell_type": "code",
   "execution_count": null,
   "metadata": {},
   "outputs": [],
   "source": [
    "import random\n",
    "\n",
    "itcount = 10\n",
    "\n",
    "testnums = []\n",
    "solutions =[]\n",
    "full_solutions = []\n",
    "\n",
    "for _ in range(itcount):\n",
    "    length = random.randint(3, 10)\n",
    "    diff = random.randint(-5, 20)\n",
    "    if diff == 0:\n",
    "        diff = 1\n",
    "    \n",
    "    full_solutions.append([[0 for _ in range(length -1)]])\n",
    "    \n",
    "    a = [diff for _ in range(length)]\n",
    "    full_solutions[-1].append(a)\n",
    "    while len(a) != 20:\n",
    "        b = [random.randint(-500, 1000)]\n",
    "        for diff in a:\n",
    "            b.append(b[-1] + diff)\n",
    "        a = b\n",
    "        full_solutions[-1].append(a)\n",
    "    testnums.append(a[:-1])\n",
    "    solutions.append(a[-1])\n",
    "    \n",
    "\n",
    "for index, (nums, solution) in enumerate(zip(testnums, solutions)):\n",
    "    try:\n",
    "        snums = simplify(nums)\n",
    "        exnum = extrapolate(snums)\n",
    "        if not exnum == solution:\n",
    "            print(\"does not match solution\")\n",
    "            print(exnum)\n",
    "            print(snums)\n",
    "            print(full_solutions[index][::-1])\n",
    "            break\n",
    "    except:\n",
    "        print(\"There was an error\")\n",
    "        print(nums)\n",
    "        print(simplify(nums))\n",
    "        print(full_solutions[index][::-1])\n",
    "        break"
   ]
  },
  {
   "cell_type": "code",
   "execution_count": null,
   "metadata": {},
   "outputs": [],
   "source": [
    "def simplify(nums: list[int]) -> list[list[int]]:\n",
    "    result = [nums]\n",
    "    \n",
    "    while not all(x == 0 for x in result[-1]):\n",
    "        last = result[-1]\n",
    "        result.append([r - l for l, r in zip(last, last[1:])])\n",
    "    \n",
    "    return result\n",
    "\n",
    "def extrapolate_backwards(nums: list[list[int]]) -> int:\n",
    "    for l, r in zip(nums[::-1], nums[::-1][1:]):\n",
    "        r.insert(0, r[0] - l[0])\n",
    "        \n",
    "    \n",
    "    return nums[0][0]\n",
    "\n",
    "with open('input.txt') as f:\n",
    "    lines = f.readlines()\n",
    "\n",
    "input = [[int(x) for x in line.strip().split(' ')] for line in lines]\n",
    "\n",
    "extrapolated_values = [extrapolate_backwards(simplify(nums)) for nums in input]\n",
    "print(sum(extrapolated_values))"
   ]
  }
 ],
 "metadata": {
  "kernelspec": {
   "display_name": "Python 3",
   "language": "python",
   "name": "python3"
  },
  "language_info": {
   "codemirror_mode": {
    "name": "ipython",
    "version": 3
   },
   "file_extension": ".py",
   "mimetype": "text/x-python",
   "name": "python",
   "nbconvert_exporter": "python",
   "pygments_lexer": "ipython3",
   "version": "3.10.12"
  }
 },
 "nbformat": 4,
 "nbformat_minor": 2
}
