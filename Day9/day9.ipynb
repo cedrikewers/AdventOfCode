{
 "cells": [
  {
   "cell_type": "code",
   "execution_count": 3,
   "metadata": {},
   "outputs": [
    {
     "name": "stdout",
     "output_type": "stream",
     "text": [
      "-557\n"
     ]
    }
   ],
   "source": [
    "# 1.974.232.248 is to hight\n",
    "\n",
    "def simplify(nums: list[int]) -> list[list[int]]:\n",
    "    result = [nums]\n",
    "    \n",
    "    while sum(result[-1]) != 0:\n",
    "        last = result[-1]\n",
    "        result.append([r - l for l, r in zip(last, last[1:])])\n",
    "    \n",
    "    return result\n",
    "\n",
    "def extrapolate(nums: list[list[int]]) -> int:\n",
    "    for l, r in zip(nums[::-1], nums[::-1][1:]):\n",
    "        r.append(l[-1] + r[-1])\n",
    "    \n",
    "    return nums[0][-1]\n",
    "\n",
    "with open('input.txt') as f:\n",
    "    lines = f.readlines()\n",
    "\n",
    "input = [[int(x) for x in line.strip().split(' ')] for line in lines]\n",
    "\n",
    "print(sum([extrapolate(simplify(nums)) for nums in input[194:195]]))\n"
   ]
  }
 ],
 "metadata": {
  "kernelspec": {
   "display_name": "Python 3",
   "language": "python",
   "name": "python3"
  },
  "language_info": {
   "codemirror_mode": {
    "name": "ipython",
    "version": 3
   },
   "file_extension": ".py",
   "mimetype": "text/x-python",
   "name": "python",
   "nbconvert_exporter": "python",
   "pygments_lexer": "ipython3",
   "version": "3.12.1"
  }
 },
 "nbformat": 4,
 "nbformat_minor": 2
}
